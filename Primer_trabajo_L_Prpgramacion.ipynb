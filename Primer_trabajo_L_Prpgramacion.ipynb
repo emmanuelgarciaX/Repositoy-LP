{
  "nbformat": 4,
  "nbformat_minor": 0,
  "metadata": {
    "colab": {
      "provenance": []
    },
    "kernelspec": {
      "name": "python3",
      "display_name": "Python 3"
    },
    "language_info": {
      "name": "python"
    }
  },
  "cells": [
    {
      "cell_type": "markdown",
      "source": [
        "# **VALOR PRESENTE NETO ( VPN )**\n",
        "----\n",
        "\n",
        "Es una herramienta financiera para medir si una inversión genera valor o no, el VPN te dice cuánto valor real, en dinero de hoy, te queda en el bolsillo después de descontar el tiempo y el riesgo"
      ],
      "metadata": {
        "id": "8sw3tKhQkDzM"
      }
    },
    {
      "cell_type": "markdown",
      "source": [
        "## **FORMULA VPN**\n",
        "\n",
        "---\n",
        "\n",
        "\n",
        "\n",
        "$$\n",
        "VPN= \\sum_{t=0}^{n} \\frac{c_t}{(1+r)^t} - c_0\n",
        "$$\n",
        "\n",
        "\n",
        "\n",
        "####*Donde*\n",
        "\n",
        "   - (c_t)= es le flujo de caja en el tienpo\n",
        "   - (r)= la tasa de descuento\n",
        "   - (n)= el numero de periodos totales\n",
        "   - (c_0)=inversion inicial\n",
        "\n",
        "\n",
        "####*Y se interpreta de la siguiente manera*\n",
        "\n",
        "   - si VPN > 0, la inversion es rentable, porque el VPN es positivo\n",
        "   - si VPN < 0, la inversion no es rentable, porque el VPN es negativo\n",
        "   - si VPN = 0, la inversion no genera ganacias ni perdidas, porque el VPN es 0"
      ],
      "metadata": {
        "id": "jCw8Uh2so-sU"
      }
    },
    {
      "cell_type": "markdown",
      "source": [
        "#### **ENLACE UTIL**\n",
        "\n",
        "Para saber mas acerca del VPN te invito a ver el siguiente enlace  \n",
        "- [VPN](https://www.gerencie.com/valor-presente-neto.html)\n"
      ],
      "metadata": {
        "id": "Tmrr37w1s9Uu"
      }
    },
    {
      "cell_type": "markdown",
      "source": [
        "## *DESARROLLO ACTIVIDAD*"
      ],
      "metadata": {
        "id": "cU46Gq4Otem-"
      }
    },
    {
      "cell_type": "code",
      "source": [
        "inversion_inicial = 10000\n",
        "flujo_ano_2 = 3000\n",
        "flujo_ano_3 = 3000\n",
        "tasa_descuento = 0.05"
      ],
      "metadata": {
        "id": "niRVE_ImxYQB"
      },
      "execution_count": 13,
      "outputs": []
    },
    {
      "cell_type": "code",
      "source": [
        "vpn = (flujo_ano_1 / (1 + tasa_descuento) ** 1) + \\\n",
        "(flujo_ano_2 / (1 + tasa_descuento) ** 2) + \\\n",
        "(flujo_ano_3 / (1 + tasa_descuento) ** 3) - inversion_inicial\n",
        "print(\"El VPN es:\", vpn)"
      ],
      "metadata": {
        "colab": {
          "base_uri": "https://localhost:8080/"
        },
        "id": "3QWviTtBxkKX",
        "outputId": "54daf545-817a-489a-ab20-6d819f89a63f"
      },
      "execution_count": 33,
      "outputs": [
        {
          "output_type": "stream",
          "name": "stdout",
          "text": [
            "El VPN es: -1830.2559118885656\n"
          ]
        }
      ]
    },
    {
      "cell_type": "code",
      "source": [
        "if vpn > 0:\n",
        "  print(\"la inversion es rentable, porque el VPN es positivo\")\n",
        "elif vpn < 0:\n",
        "  print(\"la inversion no es rentable, porque el VPN es negativo\")\n",
        "else:\n",
        "  print(\"la inversion no genera ganacias ni perdidas, porque el VPN es 0\")"
      ],
      "metadata": {
        "colab": {
          "base_uri": "https://localhost:8080/"
        },
        "id": "E1TMd0FX0m0S",
        "outputId": "eafcf289-68bd-4823-ee2f-806fbd9b2398"
      },
      "execution_count": 30,
      "outputs": [
        {
          "output_type": "stream",
          "name": "stdout",
          "text": [
            "la inversion no es rentable, porque el VPN es negativo\n"
          ]
        }
      ]
    }
  ]
}